{
 "cells": [
  {
   "cell_type": "markdown",
   "id": "83ee6de2",
   "metadata": {},
   "source": [
    "## Introduction"
   ]
  },
  {
   "cell_type": "markdown",
   "id": "0c473857",
   "metadata": {},
   "source": [
    "### Problem statement"
   ]
  },
  {
   "cell_type": "markdown",
   "id": "cbed2d1a",
   "metadata": {},
   "source": [
    "Given the olympics dataset from 1896 to 2016 olympics. The dataset is made up combining the two datasets which are the athlete events dataset and region datasets referred to as df and df1 respectively. The dataset contains different kind of data including but not limited to name of the athletes, sport they play, city hosting the games, which year it was and etc. We are required to visualize the data to the best of our abilities."
   ]
  },
  {
   "cell_type": "markdown",
   "id": "97accee3",
   "metadata": {},
   "source": [
    "### Attributes"
   ]
  },
  {
   "cell_type": "markdown",
   "id": "c99a1efb",
   "metadata": {},
   "source": [
    "#### ID - A unique number used to identify an athlete\n",
    "#### Name - Full name of an athlete\n",
    "#### Sex - Gender (M/F)\n",
    "#### Age - How old the athlete is in years\n",
    "#### Height - How tall or short the athlete is in cm\n",
    "#### Weight - How heavy the athlete is in kilograms\n",
    "#### Team - Country of the athlete\n",
    "#### NOC - National olympic committee the athlete represent\n",
    "#### Games - Year and season on which the olypics were held\n",
    "#### Season - The season the olympics were held\n",
    "#### Year - The year the olympics were held\n",
    "#### City - The city in which the olympics were held\n",
    "#### Sport - Type of games they are competing in\n",
    "#### Event - Description of the sport (e.g. Judo Men's Extra-Lightweight)\n",
    "#### Medal - Type of medal won"
   ]
  },
  {
   "cell_type": "markdown",
   "id": "bd7a6881",
   "metadata": {},
   "source": [
    "### Acknowledgement"
   ]
  },
  {
   "cell_type": "markdown",
   "id": "016d89bf",
   "metadata": {},
   "source": [
    "[Kaggle](https://www.kaggle.com/heesoo37/olympic-history-data-a-thorough-analysis)"
   ]
  },
  {
   "cell_type": "markdown",
   "id": "71943258",
   "metadata": {},
   "source": [
    "## Data cleaning"
   ]
  },
  {
   "cell_type": "markdown",
   "id": "aff22b17",
   "metadata": {},
   "source": [
    "### Modules Import"
   ]
  },
  {
   "cell_type": "code",
   "execution_count": 1,
   "id": "1924d7a8",
   "metadata": {},
   "outputs": [],
   "source": [
    "# Modules\n",
    "import pandas as pd\n",
    "import numpy as np\n",
    "import matplotlib.pyplot as plt\n",
    "import seaborn as sns"
   ]
  },
  {
   "cell_type": "markdown",
   "id": "2961ab19",
   "metadata": {},
   "source": [
    "### Missing data"
   ]
  },
  {
   "cell_type": "code",
   "execution_count": 2,
   "id": "16d4ff07",
   "metadata": {},
   "outputs": [],
   "source": [
    "# Defining dataset\n",
    "\n",
    "df = pd.read_csv('athlete_events.csv')\n",
    "df1 = pd.read_csv('noc_regions.csv')"
   ]
  },
  {
   "cell_type": "markdown",
   "id": "7393b1d7",
   "metadata": {},
   "source": [
    "### Data overview"
   ]
  },
  {
   "cell_type": "code",
   "execution_count": 3,
   "id": "ed86efd0",
   "metadata": {},
   "outputs": [
    {
     "data": {
      "text/html": [
       "<div>\n",
       "<style scoped>\n",
       "    .dataframe tbody tr th:only-of-type {\n",
       "        vertical-align: middle;\n",
       "    }\n",
       "\n",
       "    .dataframe tbody tr th {\n",
       "        vertical-align: top;\n",
       "    }\n",
       "\n",
       "    .dataframe thead th {\n",
       "        text-align: right;\n",
       "    }\n",
       "</style>\n",
       "<table border=\"1\" class=\"dataframe\">\n",
       "  <thead>\n",
       "    <tr style=\"text-align: right;\">\n",
       "      <th></th>\n",
       "      <th>ID</th>\n",
       "      <th>Name</th>\n",
       "      <th>Sex</th>\n",
       "      <th>Age</th>\n",
       "      <th>Height</th>\n",
       "      <th>Weight</th>\n",
       "      <th>Team</th>\n",
       "      <th>NOC</th>\n",
       "      <th>Games</th>\n",
       "      <th>Year</th>\n",
       "      <th>Season</th>\n",
       "      <th>City</th>\n",
       "      <th>Sport</th>\n",
       "      <th>Event</th>\n",
       "      <th>Medal</th>\n",
       "    </tr>\n",
       "  </thead>\n",
       "  <tbody>\n",
       "    <tr>\n",
       "      <th>0</th>\n",
       "      <td>1</td>\n",
       "      <td>A Dijiang</td>\n",
       "      <td>M</td>\n",
       "      <td>24.0</td>\n",
       "      <td>180.0</td>\n",
       "      <td>80.0</td>\n",
       "      <td>China</td>\n",
       "      <td>CHN</td>\n",
       "      <td>1992 Summer</td>\n",
       "      <td>1992</td>\n",
       "      <td>Summer</td>\n",
       "      <td>Barcelona</td>\n",
       "      <td>Basketball</td>\n",
       "      <td>Basketball Men's Basketball</td>\n",
       "      <td>NaN</td>\n",
       "    </tr>\n",
       "    <tr>\n",
       "      <th>1</th>\n",
       "      <td>2</td>\n",
       "      <td>A Lamusi</td>\n",
       "      <td>M</td>\n",
       "      <td>23.0</td>\n",
       "      <td>170.0</td>\n",
       "      <td>60.0</td>\n",
       "      <td>China</td>\n",
       "      <td>CHN</td>\n",
       "      <td>2012 Summer</td>\n",
       "      <td>2012</td>\n",
       "      <td>Summer</td>\n",
       "      <td>London</td>\n",
       "      <td>Judo</td>\n",
       "      <td>Judo Men's Extra-Lightweight</td>\n",
       "      <td>NaN</td>\n",
       "    </tr>\n",
       "    <tr>\n",
       "      <th>2</th>\n",
       "      <td>3</td>\n",
       "      <td>Gunnar Nielsen Aaby</td>\n",
       "      <td>M</td>\n",
       "      <td>24.0</td>\n",
       "      <td>NaN</td>\n",
       "      <td>NaN</td>\n",
       "      <td>Denmark</td>\n",
       "      <td>DEN</td>\n",
       "      <td>1920 Summer</td>\n",
       "      <td>1920</td>\n",
       "      <td>Summer</td>\n",
       "      <td>Antwerpen</td>\n",
       "      <td>Football</td>\n",
       "      <td>Football Men's Football</td>\n",
       "      <td>NaN</td>\n",
       "    </tr>\n",
       "    <tr>\n",
       "      <th>3</th>\n",
       "      <td>4</td>\n",
       "      <td>Edgar Lindenau Aabye</td>\n",
       "      <td>M</td>\n",
       "      <td>34.0</td>\n",
       "      <td>NaN</td>\n",
       "      <td>NaN</td>\n",
       "      <td>Denmark/Sweden</td>\n",
       "      <td>DEN</td>\n",
       "      <td>1900 Summer</td>\n",
       "      <td>1900</td>\n",
       "      <td>Summer</td>\n",
       "      <td>Paris</td>\n",
       "      <td>Tug-Of-War</td>\n",
       "      <td>Tug-Of-War Men's Tug-Of-War</td>\n",
       "      <td>Gold</td>\n",
       "    </tr>\n",
       "    <tr>\n",
       "      <th>4</th>\n",
       "      <td>5</td>\n",
       "      <td>Christine Jacoba Aaftink</td>\n",
       "      <td>F</td>\n",
       "      <td>21.0</td>\n",
       "      <td>185.0</td>\n",
       "      <td>82.0</td>\n",
       "      <td>Netherlands</td>\n",
       "      <td>NED</td>\n",
       "      <td>1988 Winter</td>\n",
       "      <td>1988</td>\n",
       "      <td>Winter</td>\n",
       "      <td>Calgary</td>\n",
       "      <td>Speed Skating</td>\n",
       "      <td>Speed Skating Women's 500 metres</td>\n",
       "      <td>NaN</td>\n",
       "    </tr>\n",
       "  </tbody>\n",
       "</table>\n",
       "</div>"
      ],
      "text/plain": [
       "   ID                      Name Sex   Age  Height  Weight            Team  \\\n",
       "0   1                 A Dijiang   M  24.0   180.0    80.0           China   \n",
       "1   2                  A Lamusi   M  23.0   170.0    60.0           China   \n",
       "2   3       Gunnar Nielsen Aaby   M  24.0     NaN     NaN         Denmark   \n",
       "3   4      Edgar Lindenau Aabye   M  34.0     NaN     NaN  Denmark/Sweden   \n",
       "4   5  Christine Jacoba Aaftink   F  21.0   185.0    82.0     Netherlands   \n",
       "\n",
       "   NOC        Games  Year  Season       City          Sport  \\\n",
       "0  CHN  1992 Summer  1992  Summer  Barcelona     Basketball   \n",
       "1  CHN  2012 Summer  2012  Summer     London           Judo   \n",
       "2  DEN  1920 Summer  1920  Summer  Antwerpen       Football   \n",
       "3  DEN  1900 Summer  1900  Summer      Paris     Tug-Of-War   \n",
       "4  NED  1988 Winter  1988  Winter    Calgary  Speed Skating   \n",
       "\n",
       "                              Event Medal  \n",
       "0       Basketball Men's Basketball   NaN  \n",
       "1      Judo Men's Extra-Lightweight   NaN  \n",
       "2           Football Men's Football   NaN  \n",
       "3       Tug-Of-War Men's Tug-Of-War  Gold  \n",
       "4  Speed Skating Women's 500 metres   NaN  "
      ]
     },
     "execution_count": 3,
     "metadata": {},
     "output_type": "execute_result"
    }
   ],
   "source": [
    "df.head()"
   ]
  },
  {
   "cell_type": "code",
   "execution_count": 4,
   "id": "2519901c",
   "metadata": {},
   "outputs": [
    {
     "data": {
      "text/html": [
       "<div>\n",
       "<style scoped>\n",
       "    .dataframe tbody tr th:only-of-type {\n",
       "        vertical-align: middle;\n",
       "    }\n",
       "\n",
       "    .dataframe tbody tr th {\n",
       "        vertical-align: top;\n",
       "    }\n",
       "\n",
       "    .dataframe thead th {\n",
       "        text-align: right;\n",
       "    }\n",
       "</style>\n",
       "<table border=\"1\" class=\"dataframe\">\n",
       "  <thead>\n",
       "    <tr style=\"text-align: right;\">\n",
       "      <th></th>\n",
       "      <th>NOC</th>\n",
       "      <th>region</th>\n",
       "      <th>notes</th>\n",
       "    </tr>\n",
       "  </thead>\n",
       "  <tbody>\n",
       "    <tr>\n",
       "      <th>0</th>\n",
       "      <td>AFG</td>\n",
       "      <td>Afghanistan</td>\n",
       "      <td>NaN</td>\n",
       "    </tr>\n",
       "    <tr>\n",
       "      <th>1</th>\n",
       "      <td>AHO</td>\n",
       "      <td>Curacao</td>\n",
       "      <td>Netherlands Antilles</td>\n",
       "    </tr>\n",
       "    <tr>\n",
       "      <th>2</th>\n",
       "      <td>ALB</td>\n",
       "      <td>Albania</td>\n",
       "      <td>NaN</td>\n",
       "    </tr>\n",
       "    <tr>\n",
       "      <th>3</th>\n",
       "      <td>ALG</td>\n",
       "      <td>Algeria</td>\n",
       "      <td>NaN</td>\n",
       "    </tr>\n",
       "    <tr>\n",
       "      <th>4</th>\n",
       "      <td>AND</td>\n",
       "      <td>Andorra</td>\n",
       "      <td>NaN</td>\n",
       "    </tr>\n",
       "  </tbody>\n",
       "</table>\n",
       "</div>"
      ],
      "text/plain": [
       "   NOC       region                 notes\n",
       "0  AFG  Afghanistan                   NaN\n",
       "1  AHO      Curacao  Netherlands Antilles\n",
       "2  ALB      Albania                   NaN\n",
       "3  ALG      Algeria                   NaN\n",
       "4  AND      Andorra                   NaN"
      ]
     },
     "execution_count": 4,
     "metadata": {},
     "output_type": "execute_result"
    }
   ],
   "source": [
    "df1.head()"
   ]
  },
  {
   "cell_type": "markdown",
   "id": "35326de8",
   "metadata": {},
   "source": [
    "### Dealing with null values"
   ]
  },
  {
   "cell_type": "code",
   "execution_count": 5,
   "id": "459bb63e",
   "metadata": {},
   "outputs": [
    {
     "data": {
      "text/plain": [
       "ID             0\n",
       "Name           0\n",
       "Sex            0\n",
       "Age         9474\n",
       "Height     60171\n",
       "Weight     62875\n",
       "Team           0\n",
       "NOC            0\n",
       "Games          0\n",
       "Year           0\n",
       "Season         0\n",
       "City           0\n",
       "Sport          0\n",
       "Event          0\n",
       "Medal     231333\n",
       "dtype: int64"
      ]
     },
     "execution_count": 5,
     "metadata": {},
     "output_type": "execute_result"
    }
   ],
   "source": [
    "df.isnull().sum()"
   ]
  },
  {
   "cell_type": "code",
   "execution_count": 6,
   "id": "58f466d5",
   "metadata": {},
   "outputs": [
    {
     "data": {
      "text/plain": [
       "NOC         0\n",
       "region      3\n",
       "notes     209\n",
       "dtype: int64"
      ]
     },
     "execution_count": 6,
     "metadata": {},
     "output_type": "execute_result"
    }
   ],
   "source": [
    "df1.isnull().sum()"
   ]
  },
  {
   "cell_type": "markdown",
   "id": "661c7005",
   "metadata": {},
   "source": [
    "We can see that we have null values in both datasets, now we investigate the null values and see how we can deal with them"
   ]
  },
  {
   "cell_type": "code",
   "execution_count": 7,
   "id": "acd1f950",
   "metadata": {},
   "outputs": [
    {
     "data": {
      "text/html": [
       "<div>\n",
       "<style scoped>\n",
       "    .dataframe tbody tr th:only-of-type {\n",
       "        vertical-align: middle;\n",
       "    }\n",
       "\n",
       "    .dataframe tbody tr th {\n",
       "        vertical-align: top;\n",
       "    }\n",
       "\n",
       "    .dataframe thead th {\n",
       "        text-align: right;\n",
       "    }\n",
       "</style>\n",
       "<table border=\"1\" class=\"dataframe\">\n",
       "  <thead>\n",
       "    <tr style=\"text-align: right;\">\n",
       "      <th></th>\n",
       "      <th>NOC</th>\n",
       "      <th>region</th>\n",
       "      <th>notes</th>\n",
       "    </tr>\n",
       "  </thead>\n",
       "  <tbody>\n",
       "    <tr>\n",
       "      <th>168</th>\n",
       "      <td>ROT</td>\n",
       "      <td>NaN</td>\n",
       "      <td>Refugee Olympic Team</td>\n",
       "    </tr>\n",
       "    <tr>\n",
       "      <th>208</th>\n",
       "      <td>TUV</td>\n",
       "      <td>NaN</td>\n",
       "      <td>Tuvalu</td>\n",
       "    </tr>\n",
       "    <tr>\n",
       "      <th>213</th>\n",
       "      <td>UNK</td>\n",
       "      <td>NaN</td>\n",
       "      <td>Unknown</td>\n",
       "    </tr>\n",
       "  </tbody>\n",
       "</table>\n",
       "</div>"
      ],
      "text/plain": [
       "     NOC region                 notes\n",
       "168  ROT    NaN  Refugee Olympic Team\n",
       "208  TUV    NaN                Tuvalu\n",
       "213  UNK    NaN               Unknown"
      ]
     },
     "execution_count": 7,
     "metadata": {},
     "output_type": "execute_result"
    }
   ],
   "source": [
    "df1[df1['region'].isnull() == True]"
   ]
  },
  {
   "cell_type": "code",
   "execution_count": 8,
   "id": "7b7558e1",
   "metadata": {},
   "outputs": [
    {
     "data": {
      "text/plain": [
       "array(['Afghanistan', 'Curacao', 'Albania', 'Algeria', 'Andorra',\n",
       "       'Angola', 'Antigua', 'Australia', 'Argentina', 'Armenia', 'Aruba',\n",
       "       'American Samoa', 'Austria', 'Azerbaijan', 'Bahamas', 'Bangladesh',\n",
       "       'Barbados', 'Burundi', 'Belgium', 'Benin', 'Bermuda', 'Bhutan',\n",
       "       'Bosnia and Herzegovina', 'Belize', 'Belarus', 'Czech Republic',\n",
       "       'Boliva', 'Botswana', 'Brazil', 'Bahrain', 'Brunei', 'Bulgaria',\n",
       "       'Burkina Faso', 'Central African Republic', 'Cambodia', 'Canada',\n",
       "       'Cayman Islands', 'Republic of Congo', 'Chad', 'Chile', 'China',\n",
       "       'Ivory Coast', 'Cameroon', 'Democratic Republic of the Congo',\n",
       "       'Cook Islands', 'Colombia', 'Comoros', 'Cape Verde', 'Costa Rica',\n",
       "       'Croatia', 'Greece', 'Cuba', 'Cyprus', 'Denmark', 'Djibouti',\n",
       "       'Dominica', 'Dominican Republic', 'Ecuador', 'Egypt', 'Eritrea',\n",
       "       'El Salvador', 'Spain', 'Estonia', 'Ethiopia', 'Russia', 'Fiji',\n",
       "       'Finland', 'France', 'Germany', 'Micronesia', 'Gabon', 'Gambia',\n",
       "       'UK', 'Guinea-Bissau', 'Georgia', 'Equatorial Guinea', 'Ghana',\n",
       "       'Grenada', 'Guatemala', 'Guinea', 'Guam', 'Guyana', 'Haiti',\n",
       "       'Honduras', 'Hungary', 'Indonesia', 'India',\n",
       "       'Individual Olympic Athletes', 'Iran', 'Ireland', 'Iraq',\n",
       "       'Iceland', 'Israel', 'Virgin Islands, US', 'Italy',\n",
       "       'Virgin Islands, British', 'Jamaica', 'Jordan', 'Japan',\n",
       "       'Kazakhstan', 'Kenya', 'Kyrgyzstan', 'Kiribati', 'South Korea',\n",
       "       'Kosovo', 'Saudi Arabia', 'Kuwait', 'Laos', 'Latvia', 'Libya',\n",
       "       'Liberia', 'Saint Lucia', 'Lesotho', 'Lebanon', 'Liechtenstein',\n",
       "       'Lithuania', 'Luxembourg', 'Madagascar', 'Malaysia', 'Morocco',\n",
       "       'Malawi', 'Moldova', 'Maldives', 'Mexico', 'Mongolia',\n",
       "       'Marshall Islands', 'Macedonia', 'Mali', 'Malta', 'Montenegro',\n",
       "       'Monaco', 'Mozambique', 'Mauritius', 'Mauritania', 'Myanmar',\n",
       "       'Namibia', 'Nicaragua', 'Netherlands', 'Nepal', 'Nigeria', 'Niger',\n",
       "       'Norway', 'Nauru', 'New Zealand', 'Oman', 'Pakistan', 'Panama',\n",
       "       'Paraguay', 'Peru', 'Philippines', 'Palestine', 'Palau',\n",
       "       'Papua New Guinea', 'Poland', 'Portugal', 'North Korea',\n",
       "       'Puerto Rico', 'Qatar', 'Zimbabwe', nan, 'Romania', 'South Africa',\n",
       "       'Rwanda', 'Samoa', 'Serbia', 'Senegal', 'Seychelles', 'Singapore',\n",
       "       'Saint Kitts', 'Sierra Leone', 'Slovenia', 'San Marino',\n",
       "       'Solomon Islands', 'Somalia', 'Sri Lanka', 'South Sudan',\n",
       "       'Sao Tome and Principe', 'Sudan', 'Switzerland', 'Suriname',\n",
       "       'Slovakia', 'Sweden', 'Swaziland', 'Syria', 'Tanzania', 'Tonga',\n",
       "       'Thailand', 'Tajikistan', 'Turkmenistan', 'Timor-Leste', 'Togo',\n",
       "       'Taiwan', 'Trinidad', 'Tunisia', 'Turkey', 'United Arab Emirates',\n",
       "       'Uganda', 'Ukraine', 'Uruguay', 'USA', 'Uzbekistan', 'Vanuatu',\n",
       "       'Venezuela', 'Vietnam', 'Saint Vincent', 'Yemen', 'Zambia'],\n",
       "      dtype=object)"
      ]
     },
     "execution_count": 8,
     "metadata": {},
     "output_type": "execute_result"
    }
   ],
   "source": [
    "df1['region'].unique()"
   ]
  },
  {
   "cell_type": "markdown",
   "id": "98ce7baf",
   "metadata": {},
   "source": [
    "We can see that the region column from df1 is made up of countries from around the world. For countries with region as null we can see that the corresponding notes values has the equivalent of countries so we can substitute the region null values with the notes values."
   ]
  },
  {
   "cell_type": "code",
   "execution_count": 9,
   "id": "51ee85b6",
   "metadata": {},
   "outputs": [],
   "source": [
    "#Subtituting region null values with their correponding notes values\n",
    "for i in df1[df1['region'].isnull()==True].index:\n",
    "    df1['region'].iloc[i] = df1['notes'].iloc[i]"
   ]
  },
  {
   "cell_type": "code",
   "execution_count": 10,
   "id": "38629eba",
   "metadata": {},
   "outputs": [
    {
     "data": {
      "text/plain": [
       "NOC         0\n",
       "region      0\n",
       "notes     209\n",
       "dtype: int64"
      ]
     },
     "execution_count": 10,
     "metadata": {},
     "output_type": "execute_result"
    }
   ],
   "source": [
    "df1.isnull().sum()"
   ]
  },
  {
   "cell_type": "markdown",
   "id": "8f9b0363",
   "metadata": {},
   "source": [
    "Since we can see that most of the values in the notes values are null and we are not in need of the column for our visuals we can drop it"
   ]
  },
  {
   "cell_type": "code",
   "execution_count": 11,
   "id": "b4064a95",
   "metadata": {},
   "outputs": [],
   "source": [
    "# Dropping the notes column\n",
    "df1.drop('notes', axis = 1,inplace = True)"
   ]
  },
  {
   "cell_type": "code",
   "execution_count": 12,
   "id": "6d55fa4a",
   "metadata": {},
   "outputs": [
    {
     "data": {
      "text/html": [
       "<div>\n",
       "<style scoped>\n",
       "    .dataframe tbody tr th:only-of-type {\n",
       "        vertical-align: middle;\n",
       "    }\n",
       "\n",
       "    .dataframe tbody tr th {\n",
       "        vertical-align: top;\n",
       "    }\n",
       "\n",
       "    .dataframe thead th {\n",
       "        text-align: right;\n",
       "    }\n",
       "</style>\n",
       "<table border=\"1\" class=\"dataframe\">\n",
       "  <thead>\n",
       "    <tr style=\"text-align: right;\">\n",
       "      <th></th>\n",
       "      <th>NOC</th>\n",
       "      <th>region</th>\n",
       "    </tr>\n",
       "  </thead>\n",
       "  <tbody>\n",
       "    <tr>\n",
       "      <th>0</th>\n",
       "      <td>AFG</td>\n",
       "      <td>Afghanistan</td>\n",
       "    </tr>\n",
       "    <tr>\n",
       "      <th>1</th>\n",
       "      <td>AHO</td>\n",
       "      <td>Curacao</td>\n",
       "    </tr>\n",
       "    <tr>\n",
       "      <th>2</th>\n",
       "      <td>ALB</td>\n",
       "      <td>Albania</td>\n",
       "    </tr>\n",
       "    <tr>\n",
       "      <th>3</th>\n",
       "      <td>ALG</td>\n",
       "      <td>Algeria</td>\n",
       "    </tr>\n",
       "    <tr>\n",
       "      <th>4</th>\n",
       "      <td>AND</td>\n",
       "      <td>Andorra</td>\n",
       "    </tr>\n",
       "    <tr>\n",
       "      <th>...</th>\n",
       "      <td>...</td>\n",
       "      <td>...</td>\n",
       "    </tr>\n",
       "    <tr>\n",
       "      <th>225</th>\n",
       "      <td>YEM</td>\n",
       "      <td>Yemen</td>\n",
       "    </tr>\n",
       "    <tr>\n",
       "      <th>226</th>\n",
       "      <td>YMD</td>\n",
       "      <td>Yemen</td>\n",
       "    </tr>\n",
       "    <tr>\n",
       "      <th>227</th>\n",
       "      <td>YUG</td>\n",
       "      <td>Serbia</td>\n",
       "    </tr>\n",
       "    <tr>\n",
       "      <th>228</th>\n",
       "      <td>ZAM</td>\n",
       "      <td>Zambia</td>\n",
       "    </tr>\n",
       "    <tr>\n",
       "      <th>229</th>\n",
       "      <td>ZIM</td>\n",
       "      <td>Zimbabwe</td>\n",
       "    </tr>\n",
       "  </tbody>\n",
       "</table>\n",
       "<p>230 rows × 2 columns</p>\n",
       "</div>"
      ],
      "text/plain": [
       "     NOC       region\n",
       "0    AFG  Afghanistan\n",
       "1    AHO      Curacao\n",
       "2    ALB      Albania\n",
       "3    ALG      Algeria\n",
       "4    AND      Andorra\n",
       "..   ...          ...\n",
       "225  YEM        Yemen\n",
       "226  YMD        Yemen\n",
       "227  YUG       Serbia\n",
       "228  ZAM       Zambia\n",
       "229  ZIM     Zimbabwe\n",
       "\n",
       "[230 rows x 2 columns]"
      ]
     },
     "execution_count": 12,
     "metadata": {},
     "output_type": "execute_result"
    }
   ],
   "source": [
    "df1"
   ]
  },
  {
   "cell_type": "code",
   "execution_count": 13,
   "id": "e0b7a540",
   "metadata": {},
   "outputs": [
    {
     "data": {
      "text/plain": [
       "array([ 80.        ,  60.        ,          nan,  82.        ,\n",
       "        75.        ,  72.        ,  96.        ,  76.5       ,\n",
       "        70.        ,  55.5       ,  65.        ,  85.        ,\n",
       "        64.        , 130.        , 125.        ,  89.        ,\n",
       "        77.        ,  76.        ,  98.        ,  78.        ,\n",
       "        73.        ,  93.        ,  74.        , 106.        ,\n",
       "        58.        ,  66.        ,  71.        ,  90.        ,\n",
       "        87.        ,  49.        ,  48.        ,  83.        ,\n",
       "        86.        ,  55.        ,  67.        ,  97.        ,\n",
       "       105.        ,  43.        ,  79.        ,  51.        ,\n",
       "        88.        ,  62.        ,  53.        , 104.        ,\n",
       "        57.        ,  63.        ,  52.        ,  91.        ,\n",
       "        94.        ,  56.        ,  68.        ,  61.        ,\n",
       "        69.        ,  46.        , 100.        ,  81.        ,\n",
       "        92.        , 120.        ,  95.        ,  59.        ,\n",
       "        50.        , 117.5       ,  54.        ,  47.        ,\n",
       "       117.        ,  84.        , 102.        ,  40.        ,\n",
       "       115.        , 110.        ,  45.        ,  99.        ,\n",
       "       109.        ,  69.5       , 135.        ,  38.        ,\n",
       "        77.5       , 103.        , 163.        , 113.        ,\n",
       "        42.        ,  91.5       ,  82.5       ,  68.5       ,\n",
       "       116.        , 107.        ,  96.5       ,  83.5       ,\n",
       "        44.        , 122.        , 102.5       ,  71.5       ,\n",
       "       156.        , 150.        , 160.        ,  95.5       ,\n",
       "       101.        , 146.        , 138.        , 112.        ,\n",
       "       108.        , 140.        , 141.        ,  63.5       ,\n",
       "       114.        , 118.        ,  52.5       , 127.        ,\n",
       "        39.        ,  73.5       , 155.        ,  74.5       ,\n",
       "        32.        , 143.        , 133.        ,  70.5       ,\n",
       "       126.        ,  53.5       , 121.        ,  67.5       ,\n",
       "       111.        , 123.5       ,  41.        ,  36.        ,\n",
       "       132.        , 128.        ,  65.5       ,  98.5       ,\n",
       "       124.        ,  59.5       ,  66.5       , 127.5       ,\n",
       "        35.        , 144.        ,  58.5       , 214.        ,\n",
       "        81.5       ,  37.        , 146.5       , 116.5       ,\n",
       "       148.        , 123.        ,  89.5       , 133.5       ,\n",
       "        86.5       ,  85.5       , 101.5       , 154.        ,\n",
       "       139.        ,  57.5       , 136.        ,  54.5       ,\n",
       "       137.        , 170.        ,  30.        ,  25.        ,\n",
       "        77.33333333, 131.        ,  79.5       ,  34.        ,\n",
       "       119.        , 134.        ,  33.        , 109.5       ,\n",
       "        90.5       , 129.        , 147.        ,  56.5       ,\n",
       "        78.5       , 165.        ,  88.5       ,  62.5       ,\n",
       "        60.5       , 158.        ,  75.5       , 190.        ,\n",
       "        64.5       , 145.        , 121.5       ,  61.5       ,\n",
       "       161.        , 176.5       ,  87.5       , 100.5       ,\n",
       "       149.        , 152.        , 108.5       ,  28.        ,\n",
       "        48.5       , 138.5       ,  72.5       , 129.5       ,\n",
       "       131.5       , 167.        ,  84.5       ,  49.5       ,\n",
       "        51.5       , 112.5       , 118.5       , 142.        ,\n",
       "        80.5       , 106.5       , 107.5       ,  31.        ,\n",
       "       135.5       , 137.5       ,  93.5       ,  97.5       ,\n",
       "       103.5       , 175.        , 151.        , 198.        ,\n",
       "       178.        ,  92.5       , 180.        , 104.5       ,\n",
       "       105.5       , 122.5       , 182.        ,  74.66666667,\n",
       "       130.5       ])"
      ]
     },
     "execution_count": 13,
     "metadata": {},
     "output_type": "execute_result"
    }
   ],
   "source": [
    "df['Weight'].unique()"
   ]
  },
  {
   "cell_type": "code",
   "execution_count": 14,
   "id": "04fbd0e1",
   "metadata": {},
   "outputs": [
    {
     "data": {
      "text/plain": [
       "array([180., 170.,  nan, 185., 188., 183., 168., 186., 182., 172., 159.,\n",
       "       171., 184., 175., 189., 176., 163., 187., 169., 174., 190., 194.,\n",
       "       177., 167., 164., 198., 165., 156., 179., 178., 166., 181., 155.,\n",
       "       160., 173., 192., 195., 191., 203., 158., 154., 153., 152., 193.,\n",
       "       162., 197., 157., 207., 147., 150., 202., 161., 210., 205., 200.,\n",
       "       148., 208., 140., 213., 204., 151., 196., 146., 201., 132., 149.,\n",
       "       199., 211., 215., 139., 206., 135., 142., 217., 209., 145., 221.,\n",
       "       144., 214., 143., 218., 127., 223., 216., 141., 212., 131., 136.,\n",
       "       137., 138., 220., 130., 219., 133., 128., 226.])"
      ]
     },
     "execution_count": 14,
     "metadata": {},
     "output_type": "execute_result"
    }
   ],
   "source": [
    "df['Height'].unique()"
   ]
  },
  {
   "cell_type": "code",
   "execution_count": 15,
   "id": "6c13e8e8",
   "metadata": {},
   "outputs": [
    {
     "data": {
      "text/plain": [
       "array([24., 23., 34., 21., 25., 27., 31., 33., 18., 26., 22., 30., 32.,\n",
       "       28., 54., 20., 17., 43., 47., 29., 41., 45., 49., 53., 57., nan,\n",
       "       19., 38., 35., 16., 37., 15., 42., 46., 40., 36., 14., 39., 48.,\n",
       "       52., 44., 55., 50., 71., 63., 51., 58., 13., 60., 75., 65., 56.,\n",
       "       64., 68., 84., 12., 72., 59., 61., 70., 74., 62., 67., 69., 73.,\n",
       "       66., 11., 76., 88., 96., 80., 10., 81., 77., 97.])"
      ]
     },
     "execution_count": 15,
     "metadata": {},
     "output_type": "execute_result"
    }
   ],
   "source": [
    "df['Age'].unique()"
   ]
  },
  {
   "cell_type": "code",
   "execution_count": 16,
   "id": "ee0f66d4",
   "metadata": {},
   "outputs": [
    {
     "data": {
      "text/plain": [
       "array([nan, 'Gold', 'Bronze', 'Silver'], dtype=object)"
      ]
     },
     "execution_count": 16,
     "metadata": {},
     "output_type": "execute_result"
    }
   ],
   "source": [
    "df['Medal'].unique()"
   ]
  },
  {
   "cell_type": "markdown",
   "id": "f8838402",
   "metadata": {},
   "source": [
    "From the unique values above we can see that weight values are decimals, age and height values are integers and the medal vales are characters. So we can fill the null values for weight with the mean while the age and height values are filled with the their respective mode values. As for the medal values we can fill the null values with none since if your value is null it means you did not win anything for that competition."
   ]
  },
  {
   "cell_type": "code",
   "execution_count": 17,
   "id": "05567f98",
   "metadata": {},
   "outputs": [],
   "source": [
    "# filling the null values for df\n",
    "for i in ['Weight','Height','Age']:\n",
    "    if i == 'Weight':\n",
    "        df[i].fillna(np.mean(df[i]),inplace=True)\n",
    "    else:\n",
    "        df[i].fillna(float(df[i].mode()),inplace=True)\n",
    "df['Medal'].fillna('None',inplace=True)"
   ]
  },
  {
   "cell_type": "code",
   "execution_count": 18,
   "id": "1a1a0b37",
   "metadata": {},
   "outputs": [
    {
     "data": {
      "text/plain": [
       "ID        0\n",
       "Name      0\n",
       "Sex       0\n",
       "Age       0\n",
       "Height    0\n",
       "Weight    0\n",
       "Team      0\n",
       "NOC       0\n",
       "Games     0\n",
       "Year      0\n",
       "Season    0\n",
       "City      0\n",
       "Sport     0\n",
       "Event     0\n",
       "Medal     0\n",
       "dtype: int64"
      ]
     },
     "execution_count": 18,
     "metadata": {},
     "output_type": "execute_result"
    }
   ],
   "source": [
    "df.isna().sum()"
   ]
  },
  {
   "cell_type": "code",
   "execution_count": 19,
   "id": "26a34a48",
   "metadata": {},
   "outputs": [],
   "source": [
    "# Making the two dataset one big data set\n",
    "Data = pd.merge(df,df1,on = 'NOC')"
   ]
  },
  {
   "cell_type": "code",
   "execution_count": 20,
   "id": "b0b45ba8",
   "metadata": {},
   "outputs": [
    {
     "data": {
      "text/html": [
       "<div>\n",
       "<style scoped>\n",
       "    .dataframe tbody tr th:only-of-type {\n",
       "        vertical-align: middle;\n",
       "    }\n",
       "\n",
       "    .dataframe tbody tr th {\n",
       "        vertical-align: top;\n",
       "    }\n",
       "\n",
       "    .dataframe thead th {\n",
       "        text-align: right;\n",
       "    }\n",
       "</style>\n",
       "<table border=\"1\" class=\"dataframe\">\n",
       "  <thead>\n",
       "    <tr style=\"text-align: right;\">\n",
       "      <th></th>\n",
       "      <th>ID</th>\n",
       "      <th>Name</th>\n",
       "      <th>Sex</th>\n",
       "      <th>Age</th>\n",
       "      <th>Height</th>\n",
       "      <th>Weight</th>\n",
       "      <th>Team</th>\n",
       "      <th>NOC</th>\n",
       "      <th>Games</th>\n",
       "      <th>Year</th>\n",
       "      <th>Season</th>\n",
       "      <th>City</th>\n",
       "      <th>Sport</th>\n",
       "      <th>Event</th>\n",
       "      <th>Medal</th>\n",
       "      <th>region</th>\n",
       "    </tr>\n",
       "  </thead>\n",
       "  <tbody>\n",
       "    <tr>\n",
       "      <th>0</th>\n",
       "      <td>1</td>\n",
       "      <td>A Dijiang</td>\n",
       "      <td>M</td>\n",
       "      <td>24.0</td>\n",
       "      <td>180.0</td>\n",
       "      <td>80.000000</td>\n",
       "      <td>China</td>\n",
       "      <td>CHN</td>\n",
       "      <td>1992 Summer</td>\n",
       "      <td>1992</td>\n",
       "      <td>Summer</td>\n",
       "      <td>Barcelona</td>\n",
       "      <td>Basketball</td>\n",
       "      <td>Basketball Men's Basketball</td>\n",
       "      <td>None</td>\n",
       "      <td>China</td>\n",
       "    </tr>\n",
       "    <tr>\n",
       "      <th>1</th>\n",
       "      <td>2</td>\n",
       "      <td>A Lamusi</td>\n",
       "      <td>M</td>\n",
       "      <td>23.0</td>\n",
       "      <td>170.0</td>\n",
       "      <td>60.000000</td>\n",
       "      <td>China</td>\n",
       "      <td>CHN</td>\n",
       "      <td>2012 Summer</td>\n",
       "      <td>2012</td>\n",
       "      <td>Summer</td>\n",
       "      <td>London</td>\n",
       "      <td>Judo</td>\n",
       "      <td>Judo Men's Extra-Lightweight</td>\n",
       "      <td>None</td>\n",
       "      <td>China</td>\n",
       "    </tr>\n",
       "    <tr>\n",
       "      <th>2</th>\n",
       "      <td>602</td>\n",
       "      <td>Abudoureheman</td>\n",
       "      <td>M</td>\n",
       "      <td>22.0</td>\n",
       "      <td>182.0</td>\n",
       "      <td>75.000000</td>\n",
       "      <td>China</td>\n",
       "      <td>CHN</td>\n",
       "      <td>2000 Summer</td>\n",
       "      <td>2000</td>\n",
       "      <td>Summer</td>\n",
       "      <td>Sydney</td>\n",
       "      <td>Boxing</td>\n",
       "      <td>Boxing Men's Middleweight</td>\n",
       "      <td>None</td>\n",
       "      <td>China</td>\n",
       "    </tr>\n",
       "    <tr>\n",
       "      <th>3</th>\n",
       "      <td>1463</td>\n",
       "      <td>Ai Linuer</td>\n",
       "      <td>M</td>\n",
       "      <td>25.0</td>\n",
       "      <td>160.0</td>\n",
       "      <td>62.000000</td>\n",
       "      <td>China</td>\n",
       "      <td>CHN</td>\n",
       "      <td>2004 Summer</td>\n",
       "      <td>2004</td>\n",
       "      <td>Summer</td>\n",
       "      <td>Athina</td>\n",
       "      <td>Wrestling</td>\n",
       "      <td>Wrestling Men's Lightweight, Greco-Roman</td>\n",
       "      <td>None</td>\n",
       "      <td>China</td>\n",
       "    </tr>\n",
       "    <tr>\n",
       "      <th>4</th>\n",
       "      <td>1464</td>\n",
       "      <td>Ai Yanhan</td>\n",
       "      <td>F</td>\n",
       "      <td>14.0</td>\n",
       "      <td>168.0</td>\n",
       "      <td>54.000000</td>\n",
       "      <td>China</td>\n",
       "      <td>CHN</td>\n",
       "      <td>2016 Summer</td>\n",
       "      <td>2016</td>\n",
       "      <td>Summer</td>\n",
       "      <td>Rio de Janeiro</td>\n",
       "      <td>Swimming</td>\n",
       "      <td>Swimming Women's 200 metres Freestyle</td>\n",
       "      <td>None</td>\n",
       "      <td>China</td>\n",
       "    </tr>\n",
       "    <tr>\n",
       "      <th>...</th>\n",
       "      <td>...</td>\n",
       "      <td>...</td>\n",
       "      <td>...</td>\n",
       "      <td>...</td>\n",
       "      <td>...</td>\n",
       "      <td>...</td>\n",
       "      <td>...</td>\n",
       "      <td>...</td>\n",
       "      <td>...</td>\n",
       "      <td>...</td>\n",
       "      <td>...</td>\n",
       "      <td>...</td>\n",
       "      <td>...</td>\n",
       "      <td>...</td>\n",
       "      <td>...</td>\n",
       "      <td>...</td>\n",
       "    </tr>\n",
       "    <tr>\n",
       "      <th>270762</th>\n",
       "      <td>120575</td>\n",
       "      <td>Mamorallo Tjoka</td>\n",
       "      <td>F</td>\n",
       "      <td>23.0</td>\n",
       "      <td>150.0</td>\n",
       "      <td>56.000000</td>\n",
       "      <td>Lesotho</td>\n",
       "      <td>LES</td>\n",
       "      <td>2008 Summer</td>\n",
       "      <td>2008</td>\n",
       "      <td>Summer</td>\n",
       "      <td>Beijing</td>\n",
       "      <td>Athletics</td>\n",
       "      <td>Athletics Women's Marathon</td>\n",
       "      <td>None</td>\n",
       "      <td>Lesotho</td>\n",
       "    </tr>\n",
       "    <tr>\n",
       "      <th>270763</th>\n",
       "      <td>120575</td>\n",
       "      <td>Mamorallo Tjoka</td>\n",
       "      <td>F</td>\n",
       "      <td>27.0</td>\n",
       "      <td>150.0</td>\n",
       "      <td>56.000000</td>\n",
       "      <td>Lesotho</td>\n",
       "      <td>LES</td>\n",
       "      <td>2012 Summer</td>\n",
       "      <td>2012</td>\n",
       "      <td>Summer</td>\n",
       "      <td>London</td>\n",
       "      <td>Athletics</td>\n",
       "      <td>Athletics Women's Marathon</td>\n",
       "      <td>None</td>\n",
       "      <td>Lesotho</td>\n",
       "    </tr>\n",
       "    <tr>\n",
       "      <th>270764</th>\n",
       "      <td>122166</td>\n",
       "      <td>M'apotlaki Ts'elho</td>\n",
       "      <td>F</td>\n",
       "      <td>15.0</td>\n",
       "      <td>180.0</td>\n",
       "      <td>70.702393</td>\n",
       "      <td>Lesotho</td>\n",
       "      <td>LES</td>\n",
       "      <td>1996 Summer</td>\n",
       "      <td>1996</td>\n",
       "      <td>Summer</td>\n",
       "      <td>Atlanta</td>\n",
       "      <td>Athletics</td>\n",
       "      <td>Athletics Women's 4 x 100 metres Relay</td>\n",
       "      <td>None</td>\n",
       "      <td>Lesotho</td>\n",
       "    </tr>\n",
       "    <tr>\n",
       "      <th>270765</th>\n",
       "      <td>122215</td>\n",
       "      <td>Lefa Tsapi</td>\n",
       "      <td>M</td>\n",
       "      <td>23.0</td>\n",
       "      <td>170.0</td>\n",
       "      <td>63.000000</td>\n",
       "      <td>Lesotho</td>\n",
       "      <td>LES</td>\n",
       "      <td>1984 Summer</td>\n",
       "      <td>1984</td>\n",
       "      <td>Summer</td>\n",
       "      <td>Los Angeles</td>\n",
       "      <td>Boxing</td>\n",
       "      <td>Boxing Men's Welterweight</td>\n",
       "      <td>None</td>\n",
       "      <td>Lesotho</td>\n",
       "    </tr>\n",
       "    <tr>\n",
       "      <th>270766</th>\n",
       "      <td>122299</td>\n",
       "      <td>Mosolesa Tsie</td>\n",
       "      <td>M</td>\n",
       "      <td>20.0</td>\n",
       "      <td>175.0</td>\n",
       "      <td>75.000000</td>\n",
       "      <td>Lesotho</td>\n",
       "      <td>LES</td>\n",
       "      <td>2000 Summer</td>\n",
       "      <td>2000</td>\n",
       "      <td>Summer</td>\n",
       "      <td>Sydney</td>\n",
       "      <td>Boxing</td>\n",
       "      <td>Boxing Men's Welterweight</td>\n",
       "      <td>None</td>\n",
       "      <td>Lesotho</td>\n",
       "    </tr>\n",
       "  </tbody>\n",
       "</table>\n",
       "<p>270767 rows × 16 columns</p>\n",
       "</div>"
      ],
      "text/plain": [
       "            ID                Name Sex   Age  Height     Weight     Team  NOC  \\\n",
       "0            1           A Dijiang   M  24.0   180.0  80.000000    China  CHN   \n",
       "1            2            A Lamusi   M  23.0   170.0  60.000000    China  CHN   \n",
       "2          602       Abudoureheman   M  22.0   182.0  75.000000    China  CHN   \n",
       "3         1463           Ai Linuer   M  25.0   160.0  62.000000    China  CHN   \n",
       "4         1464           Ai Yanhan   F  14.0   168.0  54.000000    China  CHN   \n",
       "...        ...                 ...  ..   ...     ...        ...      ...  ...   \n",
       "270762  120575     Mamorallo Tjoka   F  23.0   150.0  56.000000  Lesotho  LES   \n",
       "270763  120575     Mamorallo Tjoka   F  27.0   150.0  56.000000  Lesotho  LES   \n",
       "270764  122166  M'apotlaki Ts'elho   F  15.0   180.0  70.702393  Lesotho  LES   \n",
       "270765  122215          Lefa Tsapi   M  23.0   170.0  63.000000  Lesotho  LES   \n",
       "270766  122299       Mosolesa Tsie   M  20.0   175.0  75.000000  Lesotho  LES   \n",
       "\n",
       "              Games  Year  Season            City       Sport  \\\n",
       "0       1992 Summer  1992  Summer       Barcelona  Basketball   \n",
       "1       2012 Summer  2012  Summer          London        Judo   \n",
       "2       2000 Summer  2000  Summer          Sydney      Boxing   \n",
       "3       2004 Summer  2004  Summer          Athina   Wrestling   \n",
       "4       2016 Summer  2016  Summer  Rio de Janeiro    Swimming   \n",
       "...             ...   ...     ...             ...         ...   \n",
       "270762  2008 Summer  2008  Summer         Beijing   Athletics   \n",
       "270763  2012 Summer  2012  Summer          London   Athletics   \n",
       "270764  1996 Summer  1996  Summer         Atlanta   Athletics   \n",
       "270765  1984 Summer  1984  Summer     Los Angeles      Boxing   \n",
       "270766  2000 Summer  2000  Summer          Sydney      Boxing   \n",
       "\n",
       "                                           Event Medal   region  \n",
       "0                    Basketball Men's Basketball  None    China  \n",
       "1                   Judo Men's Extra-Lightweight  None    China  \n",
       "2                      Boxing Men's Middleweight  None    China  \n",
       "3       Wrestling Men's Lightweight, Greco-Roman  None    China  \n",
       "4          Swimming Women's 200 metres Freestyle  None    China  \n",
       "...                                          ...   ...      ...  \n",
       "270762                Athletics Women's Marathon  None  Lesotho  \n",
       "270763                Athletics Women's Marathon  None  Lesotho  \n",
       "270764    Athletics Women's 4 x 100 metres Relay  None  Lesotho  \n",
       "270765                 Boxing Men's Welterweight  None  Lesotho  \n",
       "270766                 Boxing Men's Welterweight  None  Lesotho  \n",
       "\n",
       "[270767 rows x 16 columns]"
      ]
     },
     "execution_count": 20,
     "metadata": {},
     "output_type": "execute_result"
    }
   ],
   "source": [
    "Data"
   ]
  },
  {
   "cell_type": "code",
   "execution_count": 21,
   "id": "b373cf86",
   "metadata": {},
   "outputs": [
    {
     "data": {
      "text/plain": [
       "ID        0\n",
       "Name      0\n",
       "Sex       0\n",
       "Age       0\n",
       "Height    0\n",
       "Weight    0\n",
       "Team      0\n",
       "NOC       0\n",
       "Games     0\n",
       "Year      0\n",
       "Season    0\n",
       "City      0\n",
       "Sport     0\n",
       "Event     0\n",
       "Medal     0\n",
       "region    0\n",
       "dtype: int64"
      ]
     },
     "execution_count": 21,
     "metadata": {},
     "output_type": "execute_result"
    }
   ],
   "source": [
    "Data.isna().sum()"
   ]
  },
  {
   "cell_type": "markdown",
   "id": "9da7e0fe",
   "metadata": {},
   "source": [
    "We have decided to use Google Data Studio to produce a dashboard using this data"
   ]
  },
  {
   "cell_type": "code",
   "execution_count": 22,
   "id": "57c5eb48",
   "metadata": {},
   "outputs": [],
   "source": [
    "Data.to_csv('Olympics.csv',index=False)"
   ]
  },
  {
   "cell_type": "code",
   "execution_count": 40,
   "id": "8d65d157",
   "metadata": {},
   "outputs": [
    {
     "data": {
      "text/plain": [
       "207"
      ]
     },
     "execution_count": 40,
     "metadata": {},
     "output_type": "execute_result"
    }
   ],
   "source": [
    "Data[Data['Year']>1970]['region'].nunique()"
   ]
  },
  {
   "cell_type": "code",
   "execution_count": 37,
   "id": "3345a280",
   "metadata": {},
   "outputs": [
    {
     "data": {
      "text/plain": [
       "55"
      ]
     },
     "execution_count": 37,
     "metadata": {},
     "output_type": "execute_result"
    }
   ],
   "source": [
    "Data[Data['Year']>1935]['Sport'].nunique()"
   ]
  },
  {
   "cell_type": "code",
   "execution_count": 38,
   "id": "ff1143b8",
   "metadata": {},
   "outputs": [
    {
     "data": {
      "text/plain": [
       "119479"
      ]
     },
     "execution_count": 38,
     "metadata": {},
     "output_type": "execute_result"
    }
   ],
   "source": [
    "Data[Data['Year']>1935]['ID'].nunique()"
   ]
  },
  {
   "cell_type": "code",
   "execution_count": 33,
   "id": "48c46c0c",
   "metadata": {},
   "outputs": [
    {
     "data": {
      "text/plain": [
       "34041"
      ]
     },
     "execution_count": 33,
     "metadata": {},
     "output_type": "execute_result"
    }
   ],
   "source": [
    "Data[(Data['Year']>1927) & (Data['Medal']!='None')]['Medal'].count()"
   ]
  },
  {
   "cell_type": "code",
   "execution_count": 39,
   "id": "81cc2018",
   "metadata": {},
   "outputs": [
    {
     "data": {
      "text/plain": [
       "531"
      ]
     },
     "execution_count": 39,
     "metadata": {},
     "output_type": "execute_result"
    }
   ],
   "source": [
    "Data[Data['Year']>1935]['Event'].nunique()"
   ]
  },
  {
   "cell_type": "code",
   "execution_count": 34,
   "id": "869a413f",
   "metadata": {},
   "outputs": [
    {
     "name": "stdout",
     "output_type": "stream",
     "text": [
      "207 55 124230 34041 539\n"
     ]
    }
   ],
   "source": [
    "print(Data[Data['Year']>1927]['region'].nunique(),Data[Data['Year']>1927]['Sport'].nunique(),Data[Data['Year']>1927]['ID'].nunique(),Data[(Data['Year']>1927) & (Data['Medal']!='None')]['Medal'].count(),Data[Data['Year']>1927]['Event'].nunique())"
   ]
  },
  {
   "cell_type": "code",
   "execution_count": null,
   "id": "8ec40f50",
   "metadata": {},
   "outputs": [],
   "source": []
  }
 ],
 "metadata": {
  "kernelspec": {
   "display_name": "Python 3 (ipykernel)",
   "language": "python",
   "name": "python3"
  },
  "language_info": {
   "codemirror_mode": {
    "name": "ipython",
    "version": 3
   },
   "file_extension": ".py",
   "mimetype": "text/x-python",
   "name": "python",
   "nbconvert_exporter": "python",
   "pygments_lexer": "ipython3",
   "version": "3.9.7"
  }
 },
 "nbformat": 4,
 "nbformat_minor": 5
}
